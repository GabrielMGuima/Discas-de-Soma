{
 "cells": [
  {
   "cell_type": "code",
   "execution_count": 90,
   "metadata": {},
   "outputs": [
    {
     "name": "stdout",
     "output_type": "stream",
     "text": [
      "A soma entre 2 e 2 é 4\n"
     ]
    }
   ],
   "source": [
    "# Crie um programa que leia 2 numeros e mostre a soma entre eles.\n",
    "n1 = int(input('Digite um numero ='))\n",
    "n2 = int(input('Digite Outro numero ='))\n",
    "s = (n1 + n2)\n",
    "print('A soma entre {} e {} é {}'.format(n1,n2,s))"
   ]
  },
  {
   "cell_type": "code",
   "execution_count": 91,
   "metadata": {},
   "outputs": [
    {
     "name": "stdout",
     "output_type": "stream",
     "text": [
      "È um numero ? False\n",
      "Só tem espaços ? False\n",
      "Está tudo Minúsculo ? False\n",
      "Está tudo minúsculo ? False\n",
      "è alfabético ? True\n",
      "é alfanumérico ? True\n",
      "Está capitalizada ? True\n"
     ]
    }
   ],
   "source": [
    "# Crie um programa que vc digite algo no teclado e ele diga o typo que ele é.\n",
    "p = input('Digite Algo')\n",
    "print('È um numero ?', p.isnumeric())\n",
    "print('Só tem espaços ?', p.isspace())\n",
    "print('Está tudo Minúsculo ?', p.isupper())\n",
    "print('Está tudo minúsculo ?', p.islower())\n",
    "print('è alfabético ?', p.isalpha())\n",
    "print('é alfanumérico ?', p.isalnum())\n",
    "print('Está capitalizada ?', p.istitle())"
   ]
  },
  {
   "cell_type": "code",
   "execution_count": null,
   "metadata": {},
   "outputs": [
    {
     "name": "stdout",
     "output_type": "stream",
     "text": [
      "243\n"
     ]
    }
   ],
   "source": [
    "# + Adição 5+2== 7\n",
    "# - Subtração 5-2== 3\n",
    "# * Multiplicação 5*2==10\n",
    "# / Divisão 5/2== 2.5\n",
    "# ** Potência 5**2== 25\n",
    "# // Duvisão inteira 5//2== 2 \n",
    "# % Resto da Divisão 5%2== 1\n",
    "# == è Igual\n",
    "# = Recebe\n",
    "# Ordem de Precedência 1,() 2,** 3,*,/,//,%  4,+,-\n",
    "# print(''){},.format(Variavel)) serve pra printa uma variavel ou varias \n",
    "# .format(variavel (uma soma) variavel) serve pra fazer uma soma sem precisar criar outra variavel \n",
    "# {:<20} Alinha a Esquerda e preencher com 20 caracteris (como você não indico sinal ele preenche com vazil) \n",
    "# {:>20} Alinha a direita preencher com 20 caracteris (como você não indico sinal ele preenche com vazil) \n",
    "# {:^20} Centraliza com e preencher com 20 caracteris (como você não indico sinal ele preenche com vazil) \n",
    "# {:.2f} Serve pra você limitar a quantidade de caracteris que você queira na resposta\n",
    "# {:=^20} Vai centralizar com 20 caracteris e preencher o restante com = (pode ser qualquer sinal).\n",
    "# , end='') serve pra não ter quebra de linhas e prencher tudo na mesma end=(alguma escrita) ele vai acrecentar na print\n",
    "# \\n serve pra quebra a linha fazendo digita o restante na de baixo \n",
    "# para calcular a raiz quadrada de um numero você pode usar a soma (** 0.5) "
   ]
  },
  {
   "cell_type": "code",
   "execution_count": 95,
   "metadata": {},
   "outputs": [
    {
     "name": "stdout",
     "output_type": "stream",
     "text": [
      "Seu Sucessor de 10 é 11 e O Antecessor 9\n"
     ]
    }
   ],
   "source": [
    "#Faça um programa que leia um número inteiro e mostre na tela o seu sucessor e o seu antecessor.\n",
    "numero_1 = int(input('Digite um numero'))\n",
    "print ('Seu Sucessor de {} é {} e O Antecessor {}'.format (numero_1,numero_1 + 1,numero_1 - 1))"
   ]
  },
  {
   "cell_type": "code",
   "execution_count": 1,
   "metadata": {},
   "outputs": [
    {
     "name": "stdout",
     "output_type": "stream",
     "text": [
      "O Dobro de 4 é 8 O Seu Triplo é 12 e Sua Raiz Quadrada é 2.00 \n"
     ]
    }
   ],
   "source": [
    "#Crie um algoritmo que leia um número e mostre o seu dobro, triplo e raiz quadrada.\n",
    "numero = int(input('Digite Um Número :'))\n",
    "print ('O Dobro de {} é {} O Seu Triplo é {} e Sua Raiz Quadrada é {:.2f} '.format (numero,numero * 2,numero * 3,numero ** 0.5 ))"
   ]
  },
  {
   "cell_type": "code",
   "execution_count": 99,
   "metadata": {},
   "outputs": [
    {
     "name": "stdout",
     "output_type": "stream",
     "text": [
      "Sua Media é 8.5\n"
     ]
    }
   ],
   "source": [
    "#desenvolva um programa que leia as duas notas de um aluno, calcule e mostre a sua média.\n",
    "p1 = int(input('Digite Sua Nota da P1:'))\n",
    "p2 = int(input('Digite Sua Nota da p2:'))\n",
    "print('Sua Media é {}'.format((p1 + p2)/2))\n"
   ]
  },
  {
   "cell_type": "code",
   "execution_count": 100,
   "metadata": {},
   "outputs": [
    {
     "name": "stdout",
     "output_type": "stream",
     "text": [
      "20 Metros Em Centímetros é 2000 e em Melimetros é 20000\n"
     ]
    }
   ],
   "source": [
    "# Escreva um programa que leia um valor em metros e o exiba convertido em centímetros e milímetros.\n",
    "numero = int(input('Digite Sua Metragem vou te dizer quanto ela e em Centímetros e milimetros:'))\n",
    "print('{} Metros Em Centímetros é {} e em Melimetros é {}'.format(numero,numero*100,numero*1000))"
   ]
  },
  {
   "cell_type": "code",
   "execution_count": 101,
   "metadata": {},
   "outputs": [
    {
     "name": "stdout",
     "output_type": "stream",
     "text": [
      "Sua Tabuada de 8 é \n",
      " Por um= 8\n",
      " Por dois= 16\n",
      " Por tres= 24\n",
      " Por quatro= 32\n",
      " Por cinco= 40\n",
      " Por seis= 48\n",
      " Por sete= 56\n",
      " Por oito= 64\n",
      " Por nove= 72 \n",
      " Por dez= 80\n"
     ]
    }
   ],
   "source": [
    "#faça um programa que leia um número inteiro qualquer e mostre na tela a sua tabuada.\n",
    "numero = int(input('Digite Um numero:'))\n",
    "print('Sua Tabuada de {} é \\n Por um= {}\\n Por dois= {}\\n Por tres= {}\\n Por quatro= {}\\n Por cinco= {}\\n Por seis= {}\\n Por sete= {}\\n Por oito= {}\\n Por nove= {} \\n Por dez= {}'.format(numero,numero*1,numero*2,numero*3,numero*4,numero*5,numero*6,numero*7,numero*8,numero*9,numero*10))"
   ]
  },
  {
   "cell_type": "code",
   "execution_count": 103,
   "metadata": {},
   "outputs": [
    {
     "name": "stdout",
     "output_type": "stream",
     "text": [
      "Com 500 Reais Você tem Aproximadamente 96.15 Dolares na Carteira\n"
     ]
    }
   ],
   "source": [
    "#Crie um programa que leia quanto dinheiro uma pessoa tem na carteira e mostre quantos dólares ela pode comprar.\n",
    "# considere 1,00 dolar = 5,20 reais\n",
    "dinheiro = int(input('Diga quanto de dinheiro você tem'))\n",
    "print ('Com {} Reais Você tem Aproximadamente {:.2f} Dolares na Carteira'.format(dinheiro,dinheiro/5.20))"
   ]
  },
  {
   "cell_type": "code",
   "execution_count": 3,
   "metadata": {},
   "outputs": [
    {
     "name": "stdout",
     "output_type": "stream",
     "text": [
      "Tendo 20 de Largura e 30 de Altura Você Gastaria 300.0 Litros de tinta pra pintar essa parede Considerando que que 1Litro pinta 2m ²\n"
     ]
    }
   ],
   "source": [
    "#Faça um programa que leia a largura e a altura de uma parede em metros, calcule a sua área\n",
    "# e a quantidade de tinta necessária para pintá-la, sabendo que cada litro de tinta, pinta uma área de 2m².\n",
    "largura = int(input('Me Diga a Largura da Parede:'))\n",
    "altura = int(input('Me Diga a Altura da Parede:'))\n",
    "print('Tendo {} de Largura e {} de Altura Você Gastaria {} Litros de tinta pra pintar essa parede Considerando que que 1Litro pinta 2m ²'.format(largura,altura,(largura*altura)/2))\n"
   ]
  },
  {
   "cell_type": "code",
   "execution_count": 4,
   "metadata": {},
   "outputs": [
    {
     "name": "stdout",
     "output_type": "stream",
     "text": [
      "O Seu Produto de 350 Reais com 5%,de desconto fica 333\n"
     ]
    }
   ],
   "source": [
    "#Faça um algoritmo que leia um preço de um produto e mostre seu novo preço, com 5% de desconto.\n",
    "produto = int(input('Diga o Valor do seu Produto:'))\n",
    "print('O Seu Produto de {} Reais com 5%,de desconto fica {:.0f}'.format(produto,produto /1.05))"
   ]
  },
  {
   "cell_type": "code",
   "execution_count": 5,
   "metadata": {},
   "outputs": [
    {
     "name": "stdout",
     "output_type": "stream",
     "text": [
      "O Seu Salário de 2300 com 15%, De Bonus Fica 2645.00\n"
     ]
    }
   ],
   "source": [
    "#Faça um algoritmo que leia o salário de um funcionário e mostre seu novo salário, com 15% de aumento.\n",
    "salario = int(input('Diga Qual O Seu Salario'))\n",
    "print ('O Seu Salário de {} com 15%, De Bonus Fica {:.2f}'.format(salario,salario*1.15))\n"
   ]
  }
 ],
 "metadata": {
  "kernelspec": {
   "display_name": "Python 3",
   "language": "python",
   "name": "python3"
  },
  "language_info": {
   "codemirror_mode": {
    "name": "ipython",
    "version": 3
   },
   "file_extension": ".py",
   "mimetype": "text/x-python",
   "name": "python",
   "nbconvert_exporter": "python",
   "pygments_lexer": "ipython3",
   "version": "3.8.10"
  }
 },
 "nbformat": 4,
 "nbformat_minor": 2
}
